{
 "metadata": {
  "language_info": {
   "codemirror_mode": {
    "name": "ipython",
    "version": 3
   },
   "file_extension": ".py",
   "mimetype": "text/x-python",
   "name": "python",
   "nbconvert_exporter": "python",
   "pygments_lexer": "ipython3",
   "version": "3.10.8"
  },
  "orig_nbformat": 4,
  "kernelspec": {
   "name": "python3",
   "display_name": "Python 3.10.8 64-bit"
  },
  "interpreter": {
   "hash": "eda7e54fe21129b67f77862937907ee926f057597a3e2fa1e18ac955e40912b3"
  }
 },
 "nbformat": 4,
 "nbformat_minor": 2,
 "cells": [
  {
   "cell_type": "code",
   "execution_count": 12,
   "metadata": {},
   "outputs": [
    {
     "output_type": "stream",
     "name": "stdout",
     "text": [
      "9241\n"
     ]
    }
   ],
   "source": [
    "a = 0 \n",
    "b = 0 \n",
    "for i, j in map(str.split, open(\"data.txt\").read().splitlines()): \n",
    "    i = ord(i) - ord(\"A\")\n",
    "    j =  ord(j) -ord(\"X\")\n",
    "    a += 1 + j + (j - i +1)%3 *3\n",
    "    b+ = \n",
    "print(a)\n",
    "#That's the right answer! You are one gold star closer to collecting enough star fruit.\n",
    "# I need to do part 2 \n",
    "    "
   ]
  }
 ]
}
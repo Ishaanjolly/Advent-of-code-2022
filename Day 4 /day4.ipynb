{
 "metadata": {
  "language_info": {
   "codemirror_mode": {
    "name": "ipython",
    "version": 3
   },
   "file_extension": ".py",
   "mimetype": "text/x-python",
   "name": "python",
   "nbconvert_exporter": "python",
   "pygments_lexer": "ipython3",
   "version": "3.10.8"
  },
  "orig_nbformat": 4,
  "kernelspec": {
   "name": "python3",
   "display_name": "Python 3.10.8 64-bit"
  },
  "interpreter": {
   "hash": "eda7e54fe21129b67f77862937907ee926f057597a3e2fa1e18ac955e40912b3"
  }
 },
 "nbformat": 4,
 "nbformat_minor": 2,
 "cells": [
  {
   "cell_type": "code",
   "execution_count": 9,
   "metadata": {},
   "outputs": [
    {
     "output_type": "stream",
     "name": "stdout",
     "text": [
      "526\n886\n"
     ]
    }
   ],
   "source": [
    "sol = 0 \n",
    "sol_part_2 = 0 \n",
    "for i in open(\"data.txt\"): \n",
    "    a_1, a_2, b_1, b_2 = map(int, i.replace(\",\", \"-\").split(\"-\"))\n",
    "    sol += (a_1 <= b_1) & (b_2 <= a_2) or (b_1 <= a_1) & (a_2 <= b_2) \n",
    "    sol_part_2 += (b_1 <= a_2) & (a_1 <= b_2)\n",
    "    #print(a_1, a_2, b_1, b_2)\n",
    "print(sol)\n",
    "print(sol_part_2)\n",
    "# That's the right answer! You are one gold star closer to collecting enough star fruit.\n",
    "\n"
   ]
  },
  {
   "cell_type": "code",
   "execution_count": null,
   "metadata": {},
   "outputs": [],
   "source": []
  }
 ]
}
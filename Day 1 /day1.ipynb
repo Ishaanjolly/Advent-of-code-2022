{
 "metadata": {
  "language_info": {
   "codemirror_mode": {
    "name": "ipython",
    "version": 3
   },
   "file_extension": ".py",
   "mimetype": "text/x-python",
   "name": "python",
   "nbconvert_exporter": "python",
   "pygments_lexer": "ipython3",
   "version": "3.9.15"
  },
  "orig_nbformat": 4,
  "kernelspec": {
   "name": "python3",
   "display_name": "Python 3.9.15 64-bit ('tf_new2611': conda)"
  },
  "interpreter": {
   "hash": "92f80830a18e7bd7918bdc20d90e26c17cbb68f4c63867b5c4bb249523404cb3"
  }
 },
 "nbformat": 4,
 "nbformat_minor": 2,
 "cells": [
  {
   "cell_type": "code",
   "execution_count": 23,
   "metadata": {},
   "outputs": [
    {
     "output_type": "stream",
     "name": "stdout",
     "text": [
      "70509\n208567\n"
     ]
    }
   ],
   "source": [
    "c = []\n",
    "for i in open(\"data.txt\").read().split(\"\\n\\n\"): \n",
    "    c.append(sum(map(int, i.splitlines())))\n",
    "print(sorted(c)[-1])\n",
    "print(sum(sorted(c)[-3:]))\n",
    "#That's the right answer! You are one gold star closer to collecting enough star fruit."
   ]
  }
 ]
}